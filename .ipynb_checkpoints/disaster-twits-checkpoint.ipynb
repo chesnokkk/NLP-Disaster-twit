{
 "cells": [
  {
   "cell_type": "code",
   "execution_count": 1,
   "metadata": {
    "_cell_guid": "b1076dfc-b9ad-4769-8c92-a6c4dae69d19",
    "_uuid": "8f2839f25d086af736a60e9eeb907d3b93b6e0e5",
    "execution": {
     "iopub.execute_input": "2021-10-12T11:34:12.208354Z",
     "iopub.status.busy": "2021-10-12T11:34:12.20803Z",
     "iopub.status.idle": "2021-10-12T11:34:12.217313Z",
     "shell.execute_reply": "2021-10-12T11:34:12.216362Z",
     "shell.execute_reply.started": "2021-10-12T11:34:12.208322Z"
    }
   },
   "outputs": [],
   "source": [
    "# This Python 3 environment comes with many helpful analytics libraries installed\n",
    "# It is defined by the kaggle/python Docker image: https://github.com/kaggle/docker-python\n",
    "# For example, here's several helpful packages to load\n",
    "\n",
    "import numpy as np # linear algebra\n",
    "import pandas as pd # data processing, CSV file I/O (e.g. pd.read_csv)\n",
    "\n",
    "# Input data files are available in the read-only \"../input/\" directory\n",
    "# For example, running this (by clicking run or pressing Shift+Enter) will list all files under the input directory\n",
    "\n",
    "import os\n",
    "for dirname, _, filenames in os.walk('/kaggle/input'):\n",
    "    for filename in filenames:\n",
    "        print(os.path.join(dirname, filename))\n",
    "\n",
    "# You can write up to 20GB to the current directory (/kaggle/working/) that gets preserved as output when you create a version using \"Save & Run All\" \n",
    "# You can also write temporary files to /kaggle/temp/, but they won't be saved outside of the current session"
   ]
  },
  {
   "cell_type": "code",
   "execution_count": null,
   "metadata": {},
   "outputs": [
    {
     "name": "stdout",
     "output_type": "stream",
     "text": [
      "Defaulting to user installation because normal site-packages is not writeable\n",
      "Collecting seaborn\n",
      "\u001b[33m  WARNING: Retrying (Retry(total=4, connect=None, read=None, redirect=None, status=None)) after connection broken by 'NewConnectionError('<pip._vendor.urllib3.connection.HTTPSConnection object at 0x7fb4082a97e0>: Failed to establish a new connection: [Errno 101] Сеть недоступна')': /packages/10/5b/0479d7d845b5ba410ca702ffcd7f2cd95a14a4dfff1fde2637802b258b9b/seaborn-0.11.2-py3-none-any.whl\u001b[0m\n",
      "\u001b[33m  WARNING: Retrying (Retry(total=3, connect=None, read=None, redirect=None, status=None)) after connection broken by 'NewConnectionError('<pip._vendor.urllib3.connection.HTTPSConnection object at 0x7fb4082a99c0>: Failed to establish a new connection: [Errno 101] Сеть недоступна')': /packages/10/5b/0479d7d845b5ba410ca702ffcd7f2cd95a14a4dfff1fde2637802b258b9b/seaborn-0.11.2-py3-none-any.whl\u001b[0m\n",
      "\u001b[33m  WARNING: Retrying (Retry(total=2, connect=None, read=None, redirect=None, status=None)) after connection broken by 'NewConnectionError('<pip._vendor.urllib3.connection.HTTPSConnection object at 0x7fb4082a9ba0>: Failed to establish a new connection: [Errno 101] Сеть недоступна')': /packages/10/5b/0479d7d845b5ba410ca702ffcd7f2cd95a14a4dfff1fde2637802b258b9b/seaborn-0.11.2-py3-none-any.whl\u001b[0m\n"
     ]
    }
   ],
   "source": [
    "!pip install seaborn"
   ]
  },
  {
   "cell_type": "code",
   "execution_count": 4,
   "metadata": {
    "execution": {
     "iopub.execute_input": "2021-10-12T11:34:12.219606Z",
     "iopub.status.busy": "2021-10-12T11:34:12.218937Z",
     "iopub.status.idle": "2021-10-12T11:34:12.867474Z",
     "shell.execute_reply": "2021-10-12T11:34:12.866763Z",
     "shell.execute_reply.started": "2021-10-12T11:34:12.21957Z"
    }
   },
   "outputs": [
    {
     "name": "stderr",
     "output_type": "stream",
     "text": [
      "2022-01-21 13:53:04.354771: W tensorflow/stream_executor/platform/default/dso_loader.cc:64] Could not load dynamic library 'libcudart.so.11.0'; dlerror: libcudart.so.11.0: cannot open shared object file: No such file or directory\n",
      "2022-01-21 13:53:04.354804: I tensorflow/stream_executor/cuda/cudart_stub.cc:29] Ignore above cudart dlerror if you do not have a GPU set up on your machine.\n"
     ]
    },
    {
     "ename": "ModuleNotFoundError",
     "evalue": "No module named 'seaborn'",
     "output_type": "error",
     "traceback": [
      "\u001b[0;31m---------------------------------------------------------------------------\u001b[0m",
      "\u001b[0;31mModuleNotFoundError\u001b[0m                       Traceback (most recent call last)",
      "\u001b[0;32m/tmp/ipykernel_67044/3403068821.py\u001b[0m in \u001b[0;36m<module>\u001b[0;34m\u001b[0m\n\u001b[1;32m      3\u001b[0m \u001b[0;32mimport\u001b[0m \u001b[0mspacy\u001b[0m\u001b[0;34m\u001b[0m\u001b[0;34m\u001b[0m\u001b[0m\n\u001b[1;32m      4\u001b[0m \u001b[0;32mimport\u001b[0m \u001b[0mre\u001b[0m\u001b[0;34m\u001b[0m\u001b[0;34m\u001b[0m\u001b[0m\n\u001b[0;32m----> 5\u001b[0;31m \u001b[0;32mimport\u001b[0m \u001b[0mseaborn\u001b[0m \u001b[0;32mas\u001b[0m \u001b[0msns\u001b[0m\u001b[0;34m\u001b[0m\u001b[0;34m\u001b[0m\u001b[0m\n\u001b[0m\u001b[1;32m      6\u001b[0m \u001b[0;34m\u001b[0m\u001b[0m\n\u001b[1;32m      7\u001b[0m \u001b[0mnlp\u001b[0m \u001b[0;34m=\u001b[0m \u001b[0mspacy\u001b[0m\u001b[0;34m.\u001b[0m\u001b[0mload\u001b[0m\u001b[0;34m(\u001b[0m\u001b[0;34m\"en_core_web_sm\"\u001b[0m\u001b[0;34m)\u001b[0m\u001b[0;34m\u001b[0m\u001b[0;34m\u001b[0m\u001b[0m\n",
      "\u001b[0;31mModuleNotFoundError\u001b[0m: No module named 'seaborn'"
     ]
    }
   ],
   "source": [
    "#Load first project\n",
    "import random\n",
    "import spacy\n",
    "import re\n",
    "import seaborn as sns\n",
    "\n",
    "nlp = spacy.load(\"en_core_web_sm\")\n",
    "\n",
    "STOPWORDS = nlp.Defaults.stop_words\n",
    "\n",
    "train_data = pd.read_csv('/kaggle/input/nlp-getting-started/train.csv')\n",
    "test_data = pd.read_csv('/kaggle/input/nlp-getting-started/test.csv')\n",
    "\n",
    "df = pd.concat([train_data, test_data])\n",
    "\n",
    "TRAIN_SIZE = len(df)\n",
    "SEN = df.text.iloc[0]\n",
    "\n",
    "df.head()\n",
    "\n",
    "len_train = len(train_data)"
   ]
  },
  {
   "cell_type": "code",
   "execution_count": null,
   "metadata": {
    "execution": {
     "iopub.execute_input": "2021-10-12T11:34:12.868832Z",
     "iopub.status.busy": "2021-10-12T11:34:12.868617Z",
     "iopub.status.idle": "2021-10-12T11:34:12.876729Z",
     "shell.execute_reply": "2021-10-12T11:34:12.876122Z",
     "shell.execute_reply.started": "2021-10-12T11:34:12.868807Z"
    }
   },
   "outputs": [],
   "source": [
    "df.target.value_counts()"
   ]
  },
  {
   "cell_type": "code",
   "execution_count": null,
   "metadata": {
    "execution": {
     "iopub.execute_input": "2021-10-12T11:34:12.879205Z",
     "iopub.status.busy": "2021-10-12T11:34:12.878584Z",
     "iopub.status.idle": "2021-10-12T11:34:12.892248Z",
     "shell.execute_reply": "2021-10-12T11:34:12.891396Z",
     "shell.execute_reply.started": "2021-10-12T11:34:12.879173Z"
    }
   },
   "outputs": [],
   "source": [
    "df.isnull().sum()"
   ]
  },
  {
   "cell_type": "code",
   "execution_count": null,
   "metadata": {
    "execution": {
     "iopub.execute_input": "2021-10-12T11:34:12.893746Z",
     "iopub.status.busy": "2021-10-12T11:34:12.893515Z",
     "iopub.status.idle": "2021-10-12T11:34:12.903835Z",
     "shell.execute_reply": "2021-10-12T11:34:12.903054Z",
     "shell.execute_reply.started": "2021-10-12T11:34:12.893722Z"
    }
   },
   "outputs": [],
   "source": [
    "df.fillna(\" Unknown\", inplace=True)"
   ]
  },
  {
   "cell_type": "code",
   "execution_count": null,
   "metadata": {
    "execution": {
     "iopub.execute_input": "2021-10-12T11:34:12.905484Z",
     "iopub.status.busy": "2021-10-12T11:34:12.905223Z",
     "iopub.status.idle": "2021-10-12T11:34:12.91673Z",
     "shell.execute_reply": "2021-10-12T11:34:12.915819Z",
     "shell.execute_reply.started": "2021-10-12T11:34:12.905456Z"
    }
   },
   "outputs": [],
   "source": [
    "uniq_keyword = df.keyword.unique()\n",
    "print(uniq_keyword)"
   ]
  },
  {
   "cell_type": "code",
   "execution_count": null,
   "metadata": {
    "execution": {
     "iopub.execute_input": "2021-10-12T11:34:12.918791Z",
     "iopub.status.busy": "2021-10-12T11:34:12.918202Z",
     "iopub.status.idle": "2021-10-12T11:35:21.512207Z",
     "shell.execute_reply": "2021-10-12T11:35:21.511407Z",
     "shell.execute_reply.started": "2021-10-12T11:34:12.918758Z"
    }
   },
   "outputs": [],
   "source": [
    "# Check the influence by keyword field\n",
    "\n",
    "g = sns.FacetGrid(df[['keyword','target']].iloc[:len_train], col='keyword',height=2.5, col_wrap=6)\n",
    "g.map(sns.distplot, 'target',kde=False)"
   ]
  },
  {
   "cell_type": "markdown",
   "metadata": {},
   "source": [
    "### I can make the conclusion that some keywords have great influence, some not"
   ]
  },
  {
   "cell_type": "markdown",
   "metadata": {},
   "source": [
    "## My plan\n",
    "\n",
    "* Preprocess my df(clear, tokenize, create vocab, vectorizing)\n",
    "* Choose a model\n",
    "* Fit, predict, get score "
   ]
  },
  {
   "cell_type": "code",
   "execution_count": null,
   "metadata": {
    "execution": {
     "iopub.execute_input": "2021-10-12T11:35:21.513786Z",
     "iopub.status.busy": "2021-10-12T11:35:21.513349Z",
     "iopub.status.idle": "2021-10-12T11:35:21.516774Z",
     "shell.execute_reply": "2021-10-12T11:35:21.516183Z",
     "shell.execute_reply.started": "2021-10-12T11:35:21.513752Z"
    }
   },
   "outputs": [],
   "source": [
    "#OneHotEncoding\n",
    "\n",
    "# one_hot_df = pd.get_dummies(df.keyword, prefix='keyword')"
   ]
  },
  {
   "cell_type": "code",
   "execution_count": null,
   "metadata": {
    "execution": {
     "iopub.execute_input": "2021-10-12T11:35:21.519146Z",
     "iopub.status.busy": "2021-10-12T11:35:21.518785Z",
     "iopub.status.idle": "2021-10-12T11:35:21.531211Z",
     "shell.execute_reply": "2021-10-12T11:35:21.530481Z",
     "shell.execute_reply.started": "2021-10-12T11:35:21.519111Z"
    }
   },
   "outputs": [],
   "source": [
    "#1step:  prepare text"
   ]
  },
  {
   "cell_type": "code",
   "execution_count": null,
   "metadata": {
    "execution": {
     "iopub.execute_input": "2021-10-12T11:35:21.532734Z",
     "iopub.status.busy": "2021-10-12T11:35:21.532386Z",
     "iopub.status.idle": "2021-10-12T11:35:21.545589Z",
     "shell.execute_reply": "2021-10-12T11:35:21.544192Z",
     "shell.execute_reply.started": "2021-10-12T11:35:21.532698Z"
    }
   },
   "outputs": [],
   "source": [
    "def get_random_sen(data, num=1):\n",
    "    \n",
    "    \"\"\"\n",
    "    Generate random examples of sentences\n",
    "    \n",
    "    data: pandas series with text\n",
    "    num: number of examples\n",
    "    \"\"\"\n",
    "    \n",
    "    size = len(data)\n",
    "    \n",
    "    for i in range(num):\n",
    "        return str(data.iloc[random.randint(0, size)])\n",
    "        "
   ]
  },
  {
   "cell_type": "code",
   "execution_count": null,
   "metadata": {
    "execution": {
     "iopub.execute_input": "2021-10-12T11:35:21.548123Z",
     "iopub.status.busy": "2021-10-12T11:35:21.547525Z",
     "iopub.status.idle": "2021-10-12T11:35:21.561679Z",
     "shell.execute_reply": "2021-10-12T11:35:21.561027Z",
     "shell.execute_reply.started": "2021-10-12T11:35:21.548087Z"
    }
   },
   "outputs": [],
   "source": [
    "def create_remove_list(data, punkt=True, at_name=True, hashtag=False, mail=True, stopwords=True, url=True, remove_list=[]):\n",
    "    \n",
    "    \"\"\"\n",
    "    Remove not require information from sentence\n",
    "    \n",
    "    Return str: list of words \n",
    "    \"\"\"\n",
    "    \n",
    "    from spacy.matcher import Matcher\n",
    "    from spacy.tokenizer import Tokenizer\n",
    "    \n",
    "    \n",
    "    matcher = Matcher(nlp.vocab)\n",
    "    doc = nlp(data, disable=[\"ner\", \"parser\"])\n",
    "    \n",
    "    remove_list = list(remove_list)\n",
    "    \n",
    "    patterns = []\n",
    "    \n",
    "    if stopwords==True:\n",
    "        remove_list+=list(STOPWORDS)\n",
    "    \n",
    "    if punkt==True:\n",
    "        patterns.append([{\"IS_PUNCT\": True}]),   #remove punct token\n",
    "    \n",
    "    if at_name==True:\n",
    "        patterns.append([{\"TEXT\": {\"REGEX\": \"^@\"}}])    #remove at_name\n",
    "        \n",
    "    if hashtag==True:\n",
    "        patterns.append([{\"TEXT\": {\"REGEX\": \"^#\"}}])    #remove hashtag\n",
    "    \n",
    "    if url==True:\n",
    "        patterns.append([{\"TEXT\": {\"REGEX\": \"^http\"}}])      #remove urls\n",
    "    \n",
    "    patterns.append([{\"TEXT\": {\"REGEX\": \"^ \"}}])          #remove spaces\n",
    "    patterns.append([{\"TEXT\": {\"REGEX\": \"\\n\"}}])          #remove /n\n",
    "    patterns.append([{\"TEXT\": {\"REGEX\": \"\\d+\"}}])         #remove digits\n",
    "        \n",
    "    matcher.add(\"Removings\", patterns)\n",
    "    \n",
    "    matches = matcher(doc)\n",
    "    \n",
    "    \n",
    "    \n",
    "    for match_id, start, end in matches:\n",
    "        span = doc[start:end]  # The matched span\n",
    "        remove_list.append(span.text)\n",
    "    \n",
    "    \n",
    "    \n",
    "    return set(remove_list)\n",
    "    "
   ]
  },
  {
   "cell_type": "code",
   "execution_count": null,
   "metadata": {
    "execution": {
     "iopub.execute_input": "2021-10-12T11:35:21.563749Z",
     "iopub.status.busy": "2021-10-12T11:35:21.562839Z",
     "iopub.status.idle": "2021-10-12T11:35:21.574481Z",
     "shell.execute_reply": "2021-10-12T11:35:21.573502Z",
     "shell.execute_reply.started": "2021-10-12T11:35:21.563711Z"
    }
   },
   "outputs": [],
   "source": [
    "def remove_and_tokenize(sen, remove_list):    \n",
    "    \n",
    "    \"\"\"\n",
    "    Return a list of words in sentence \n",
    "    \n",
    "    \"\"\"\n",
    "    \n",
    "    doc = nlp(sen)\n",
    "    \n",
    "    return [str.lower(word.lemma_) for word in doc if (not str.lower(word.text) in remove_list) and (not word.text in remove_list)]\n",
    " \n",
    "    "
   ]
  },
  {
   "cell_type": "code",
   "execution_count": null,
   "metadata": {
    "execution": {
     "iopub.execute_input": "2021-10-12T11:35:21.576586Z",
     "iopub.status.busy": "2021-10-12T11:35:21.576208Z",
     "iopub.status.idle": "2021-10-12T11:35:34.145583Z",
     "shell.execute_reply": "2021-10-12T11:35:34.14471Z",
     "shell.execute_reply.started": "2021-10-12T11:35:21.576555Z"
    }
   },
   "outputs": [],
   "source": [
    "#Split, because [E088] Text of length 1113253 exceeds maximum of 1000000\n",
    "\n",
    "text1 = str()      #init all_text variables\n",
    "text2 = str()\n",
    "half = len(df['text'])//2\n",
    "\n",
    "for sen in df['text'].iloc[:half]:\n",
    "    text1+=sen+' '\n",
    "\n",
    "for sen in df['text'].iloc[half:]:\n",
    "    text2+=sen+' '\n",
    "\n",
    "\n",
    "remove_list1 = create_remove_list(text1)       #Create remove_list from the all text information\n",
    "\n",
    "remove_list = create_remove_list(text2, remove_list = remove_list1)\n",
    "\n"
   ]
  },
  {
   "cell_type": "code",
   "execution_count": null,
   "metadata": {
    "execution": {
     "iopub.execute_input": "2021-10-12T11:35:34.147169Z",
     "iopub.status.busy": "2021-10-12T11:35:34.1469Z",
     "iopub.status.idle": "2021-10-12T11:35:34.168689Z",
     "shell.execute_reply": "2021-10-12T11:35:34.167827Z",
     "shell.execute_reply.started": "2021-10-12T11:35:34.147139Z"
    }
   },
   "outputs": [],
   "source": [
    "%%time\n",
    "#test result\n",
    "sen = get_random_sen(df['text'])\n",
    "print(sen)\n",
    "remove_and_tokenize(sen, remove_list)\n"
   ]
  },
  {
   "cell_type": "code",
   "execution_count": null,
   "metadata": {
    "execution": {
     "iopub.execute_input": "2021-10-12T11:35:34.17013Z",
     "iopub.status.busy": "2021-10-12T11:35:34.169897Z",
     "iopub.status.idle": "2021-10-12T11:37:08.121266Z",
     "shell.execute_reply": "2021-10-12T11:37:08.120327Z",
     "shell.execute_reply.started": "2021-10-12T11:35:34.170103Z"
    }
   },
   "outputs": [],
   "source": [
    "%%time\n",
    "\n",
    "df['tokens'] = df['text'].apply(lambda x: remove_and_tokenize(x, remove_list))       #Create tokenized version of sentence"
   ]
  },
  {
   "cell_type": "code",
   "execution_count": null,
   "metadata": {
    "execution": {
     "iopub.execute_input": "2021-10-12T11:37:08.124902Z",
     "iopub.status.busy": "2021-10-12T11:37:08.124634Z",
     "iopub.status.idle": "2021-10-12T11:37:08.129246Z",
     "shell.execute_reply": "2021-10-12T11:37:08.128231Z",
     "shell.execute_reply.started": "2021-10-12T11:37:08.124875Z"
    }
   },
   "outputs": [],
   "source": [
    "def to_string(row):\n",
    "    \"\"\"\n",
    "    convert tokenlist to str\n",
    "    \"\"\"\n",
    "    \n",
    "    return ' '.join(row)"
   ]
  },
  {
   "cell_type": "code",
   "execution_count": null,
   "metadata": {
    "execution": {
     "iopub.execute_input": "2021-10-12T11:37:08.13053Z",
     "iopub.status.busy": "2021-10-12T11:37:08.130319Z",
     "iopub.status.idle": "2021-10-12T11:37:08.15496Z",
     "shell.execute_reply": "2021-10-12T11:37:08.154056Z",
     "shell.execute_reply.started": "2021-10-12T11:37:08.130507Z"
    }
   },
   "outputs": [],
   "source": [
    "#add keyword to tokenlist\n",
    "df['result_text'] = df['tokens'].apply(lambda x: to_string(x))+df['keyword']"
   ]
  },
  {
   "cell_type": "code",
   "execution_count": null,
   "metadata": {
    "execution": {
     "iopub.execute_input": "2021-10-12T11:37:08.156757Z",
     "iopub.status.busy": "2021-10-12T11:37:08.155929Z",
     "iopub.status.idle": "2021-10-12T11:37:08.16513Z",
     "shell.execute_reply": "2021-10-12T11:37:08.164076Z",
     "shell.execute_reply.started": "2021-10-12T11:37:08.156721Z"
    }
   },
   "outputs": [],
   "source": [
    "#train_test_split\n",
    "from sklearn.model_selection import train_test_split\n",
    "\n",
    "X_train, X_test, y_train, y_test = train_test_split(\n",
    "    df['result_text'].iloc[:len(train_data)], df['target'].iloc[:len(train_data)].astype('int'), test_size=0.25, random_state=42, shuffle=True)  #Split only train data"
   ]
  },
  {
   "cell_type": "code",
   "execution_count": null,
   "metadata": {
    "execution": {
     "iopub.execute_input": "2021-10-12T11:37:08.166525Z",
     "iopub.status.busy": "2021-10-12T11:37:08.16612Z",
     "iopub.status.idle": "2021-10-12T11:37:08.178673Z",
     "shell.execute_reply": "2021-10-12T11:37:08.177981Z",
     "shell.execute_reply.started": "2021-10-12T11:37:08.166493Z"
    }
   },
   "outputs": [],
   "source": [
    "print(len(X_train), len(X_test), len(y_train), len(y_test))"
   ]
  },
  {
   "cell_type": "code",
   "execution_count": null,
   "metadata": {
    "execution": {
     "iopub.execute_input": "2021-10-12T11:37:08.180537Z",
     "iopub.status.busy": "2021-10-12T11:37:08.179699Z",
     "iopub.status.idle": "2021-10-12T11:37:08.404078Z",
     "shell.execute_reply": "2021-10-12T11:37:08.403228Z",
     "shell.execute_reply.started": "2021-10-12T11:37:08.180502Z"
    }
   },
   "outputs": [],
   "source": [
    "from sklearn.pipeline import Pipeline\n",
    "from sklearn.feature_extraction.text import TfidfVectorizer\n",
    "from sklearn.naive_bayes import MultinomialNB\n",
    "from sklearn.svm import LinearSVC\n",
    "from sklearn import metrics\n",
    "\n",
    "# Naïve Bayes Model:\n",
    "text_clf_nb = Pipeline([('tfidf', TfidfVectorizer()),\n",
    "                     ('clf', MultinomialNB()),\n",
    "])\n",
    "\n",
    "# Linear SVC Model:\n",
    "text_clf_lsvc = Pipeline([('tfidf', TfidfVectorizer()),\n",
    "                     ('clf', LinearSVC()),\n",
    "])\n",
    "\n",
    "# Train both models on the moviereviews.tsv training set:\n",
    "text_clf_nb.fit(X_train, y_train)\n",
    "text_clf_lsvc.fit(X_train, y_train)"
   ]
  },
  {
   "cell_type": "code",
   "execution_count": null,
   "metadata": {
    "execution": {
     "iopub.execute_input": "2021-10-12T11:37:08.405566Z",
     "iopub.status.busy": "2021-10-12T11:37:08.405195Z",
     "iopub.status.idle": "2021-10-12T11:37:08.452883Z",
     "shell.execute_reply": "2021-10-12T11:37:08.452262Z",
     "shell.execute_reply.started": "2021-10-12T11:37:08.405524Z"
    }
   },
   "outputs": [],
   "source": [
    "predictions1 = text_clf_nb.predict(X_test)\n",
    "\n",
    "accuracy1 = metrics.accuracy_score(y_test, predictions1)\n",
    "\n",
    "predictions2 = text_clf_lsvc.predict(X_test)\n",
    "\n",
    "accuracy2 = metrics.accuracy_score(y_test, predictions2)\n",
    "\n",
    "print(accuracy1, accuracy2)"
   ]
  },
  {
   "cell_type": "code",
   "execution_count": null,
   "metadata": {
    "execution": {
     "iopub.execute_input": "2021-10-12T11:37:08.454448Z",
     "iopub.status.busy": "2021-10-12T11:37:08.454045Z",
     "iopub.status.idle": "2021-10-12T11:37:08.462364Z",
     "shell.execute_reply": "2021-10-12T11:37:08.461553Z",
     "shell.execute_reply.started": "2021-10-12T11:37:08.454406Z"
    }
   },
   "outputs": [],
   "source": [
    "f_score1 = metrics.f1_score(y_test, predictions1)\n",
    "f_score2 = metrics.f1_score(y_test, predictions2)\n",
    "\n",
    "print(f_score1, f_score2)"
   ]
  },
  {
   "cell_type": "code",
   "execution_count": null,
   "metadata": {
    "execution": {
     "iopub.execute_input": "2021-10-12T11:49:23.70199Z",
     "iopub.status.busy": "2021-10-12T11:49:23.701711Z",
     "iopub.status.idle": "2021-10-12T11:49:23.706704Z",
     "shell.execute_reply": "2021-10-12T11:49:23.705943Z",
     "shell.execute_reply.started": "2021-10-12T11:49:23.701964Z"
    }
   },
   "outputs": [],
   "source": [
    "def create_submission(model, id_series, X_test):\n",
    "    \n",
    "    \"\"\"\n",
    "    create submission file\n",
    "    \"\"\"\n",
    "    \n",
    "    predictions = model.predict(X_test)\n",
    "    \n",
    "    result_dataframe = pd.concat([id_series,pd.Series(predictions, name='target')],axis=1, join='inner')\n",
    "    \n",
    "    \n",
    "    return result_dataframe.to_csv('./my_submission.csv', index=False)\n",
    "    "
   ]
  },
  {
   "cell_type": "code",
   "execution_count": null,
   "metadata": {
    "execution": {
     "iopub.execute_input": "2021-10-12T11:50:01.344509Z",
     "iopub.status.busy": "2021-10-12T11:50:01.343921Z",
     "iopub.status.idle": "2021-10-12T11:50:01.479293Z",
     "shell.execute_reply": "2021-10-12T11:50:01.478366Z",
     "shell.execute_reply.started": "2021-10-12T11:50:01.344465Z"
    }
   },
   "outputs": [],
   "source": [
    "all_train = pd.concat([X_train, X_test])\n",
    "all_test = pd.concat([y_train, y_test])\n",
    "\n",
    "test = df['result_text'].iloc[len(train_data):]\n",
    "\n",
    "model = text_clf_nb.fit(all_train, all_test)"
   ]
  },
  {
   "cell_type": "code",
   "execution_count": null,
   "metadata": {
    "execution": {
     "iopub.execute_input": "2021-10-12T11:50:03.994083Z",
     "iopub.status.busy": "2021-10-12T11:50:03.993772Z",
     "iopub.status.idle": "2021-10-12T11:50:04.040551Z",
     "shell.execute_reply": "2021-10-12T11:50:04.03991Z",
     "shell.execute_reply.started": "2021-10-12T11:50:03.994052Z"
    }
   },
   "outputs": [],
   "source": [
    "create_submission(model,test_data['id'], test)"
   ]
  }
 ],
 "metadata": {
  "kernelspec": {
   "display_name": "Python 3",
   "language": "python",
   "name": "python3"
  },
  "language_info": {
   "codemirror_mode": {
    "name": "ipython",
    "version": 3
   },
   "file_extension": ".py",
   "mimetype": "text/x-python",
   "name": "python",
   "nbconvert_exporter": "python",
   "pygments_lexer": "ipython3",
   "version": "3.10.1"
  }
 },
 "nbformat": 4,
 "nbformat_minor": 4
}
